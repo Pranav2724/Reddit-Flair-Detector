{
 "cells": [
  {
   "cell_type": "code",
   "execution_count": 1,
   "metadata": {},
   "outputs": [],
   "source": [
    "import pandas as pd\n",
    "import numpy as np\n",
    "import matplotlib.pyplot as plt\n",
    "from sklearn.model_selection import train_test_split\n",
    "from sklearn.naive_bayes import MultinomialNB\n",
    "from sklearn.pipeline import Pipeline\n",
    "from sklearn.feature_extraction.text import TfidfTransformer\n",
    "from sklearn.feature_extraction.text import CountVectorizer\n",
    "from sklearn.metrics import classification_report\n",
    "from sklearn.metrics import accuracy_score, confusion_matrix\n",
    "from sklearn.linear_model import SGDClassifier\n",
    "from sklearn.linear_model import LogisticRegression\n",
    "from sklearn.ensemble import RandomForestClassifier\n",
    "from sklearn.neural_network import MLPClassifier\n",
    "from xgboost import XGBClassifier\n",
    "import pickle\n",
    "import pandas as pd\n",
    "import warnings\n",
    "import requests\n",
    "from bs4 import BeautifulSoup\n",
    "warnings.filterwarnings('ignore')"
   ]
  },
  {
   "cell_type": "code",
   "execution_count": 2,
   "metadata": {},
   "outputs": [],
   "source": [
    "data = pd.read_csv('Technology Sub.csv')"
   ]
  },
  {
   "cell_type": "code",
   "execution_count": 3,
   "metadata": {},
   "outputs": [],
   "source": [
    "data = data.drop(columns=data.columns[[0]])"
   ]
  },
  {
   "cell_type": "code",
   "execution_count": 4,
   "metadata": {},
   "outputs": [],
   "source": [
    "data = data.fillna(\"\")"
   ]
  },
  {
   "cell_type": "code",
   "execution_count": 5,
   "metadata": {},
   "outputs": [
    {
     "data": {
      "text/plain": [
       "Index(['post_text', 'post_flair', 'post_additional_url', 'URL Text'], dtype='object')"
      ]
     },
     "execution_count": 5,
     "metadata": {},
     "output_type": "execute_result"
    }
   ],
   "source": [
    "data.columns"
   ]
  },
  {
   "cell_type": "code",
   "execution_count": 6,
   "metadata": {},
   "outputs": [],
   "source": [
    "data = data.sample(frac=1).reset_index(drop=True)"
   ]
  },
  {
   "cell_type": "code",
   "execution_count": 7,
   "metadata": {
    "scrolled": true
   },
   "outputs": [
    {
     "data": {
      "text/plain": [
       "'Copyright © 2021, Quiller Media, Inc. Contact Us | Privacy PolicySomewhere along the line, Facebook moved from being the preposterously insecure social media service, into a corporation whose people seem pretty insecure —  which has been further demonstrated by the company on Thursday trying its latest attempt to convince people how privacy-breaking targeted advertisements are actually good for consumers. \\rOn Thursday, we are yet again seeing a Facebook blogging tirade where the company wants to be seen as our lone champion against —  well, anything it can grab on to. If you can\\'t be bothered to read this latest diatribe, the short version is that the company appears to believe that we need our online habits tracked in order to provide us with more ads, and we should be thankful that Facebook gives us that.\\rThe even shorter version is that there\\'s no difference from the last tirade —  except that the new blog has an accompanying ad campaign. It doesn\\'t matter - Facebook knows you won\\'t read it anyway. \\rYou, specifically you, the reader of this piece, will not do anything more than glance at this nonsense from Facebook and you will not be fooled by what is patently false —  but you\\'re not the audience for these missives.\\rFacebook has written off the audience that understands what it\\'s doing, or which is interested enough to find out. It\\'s probably right to figure out that we\\'re all going to carry on using the service, but just in case, it is aiming very squarely at the audience who does not want to think about it.\\rHence the previous newspaper ads, read only by people who are involved in regulation. Hence the mutterings about taking Apple to court, believed only by people who hate Apple.\\rHence, too, Facebook\\'s loud attack which comes over as deeply insecure defense. The fact is that if you know one single thing about privacy, you are not going to be supporting Facebook. \\rFacebook knows it has lost the generally tech-savvy on privacy grounds. There\\'s no putting the genie back in the bottle, there\\'s no convincing you that they are for our good.\\rBut there is plenty of room to tell everybody else that this is really a very simple story of good versus evil, and Facebook is somehow maintaining that it is the good guy with a straight face. Facebook will not shut up about how it is the sole champion of all small businesses, even as that is not true, because everybody cares about small business owners. \\rFacebook will not even whisper about the only absolutely true thing in its entire campaign, that it\\'s afraid for its own profits. \\rWe all support the idea of people building a business out of nothing but then once they\\'ve done it, few worry too much about its bottom line. Facebook just makes it harder than ever to care about its income when it is quite plain that it does not care about us.\\rRight back at the very start, when Mark Zuckerberg started \"The Facebook\" in Harvard, he described all users as being \"dumb f***s.\" He\\'s since said he regrets it, but if he ever genuinely changed his mind about us, the new tirades suggest he\\'s changed it right back. \\rIn its quest to look like the good guy, Facebook is repeating statistics that have been disproven. But, it doesn\\'t care because if it keeps saying them, enough people will believe.\\rThat does not include the tech savvy, but it does include the kind of America that doesn\\'t live in technology, that doesn\\'t follow its every move. That audience is the one most likely to stay with Facebook, so long as Facebook can persuade enough of them that it\\'s a good guy. \\rFacebook has always regarded its users with some level of disdain, but now it\\'s vastly more blatant about it than ever. The tirades against Apple\\'s privacy seem panicked, like a politician knowing he\\'s about to be caught doing something incredibly stupid, and tries diverting attention. \\rThe fact that Facebook now so very loudly does not want you thinking about what it does, is making more people think about it. And you cannot think about Facebook\\'s business model for one instant without being uncomfortable about it.\\rSo there\\'s Facebook, forever disdaining us, now making us uncomfortable. And there\\'s Facebook, blackmailing Australia and showing the rest of the world that it\\'s ready to put charities in jeopardy unless it gets its way.\\rAnd then there\\'s Apple. While we admit this is part of Apple\\'s entire marketing schtick, Tim Cook and Apple keeps telling us about privacy and giving us an informed choice of what we do or don\\'t want to accept as it pertains to our habits, our information, and what we do on the internet.\\rApple is using privacy to sell its devices, and Facebook is using its total absence of privacy to sell us to advertisers. And to line its own pockets. Even Google has a better privacy record than Facebook does.\\rYet it truly does seem as if companies have personalities. Apple is an adult, and puts that foot forward, whether you agree with what it does or not. Facebook has the temperament of a child, whatever it does —  and most particularly when it gets caught with its hand in the cookie jar.\\rOr perhaps it\\'s a teenager. After all, as huge as it is now, it\\'s acting as fragile and petulant as the student who created it 17 years ago.\\nAppleInsider has affiliate partnerships and may earn commission on products purchased through affiliate links. \\n        These partnerships do not influence our editorial content.\\nDisputable perhaps, but Mark Zuckerberg is, in my laymen\\'s opinion, a sociopath.Mark Zuckerfuck is the poster child for Humanity\\'s Scumbags, in many ways more so than Trump was/is.I personally know people who\\'ve had their business DESTROYED because they were suckered / forced into going full-on into Facebook to find clients and perform marketing because EVERYONE is getting suckered into the promise of FREE, and suddenly they booted them off the system WITHOUT PRIOR NOTICE of ANY KIND, and didn\\'t even allow a dispute / appeal, thereby killing the business; one such SMB\\'s owner had to declare bankruptcy.So FUCK FACEBOOK, FUCK ZUCKERBURG, and I sincerely hope his \"empire\" burns to the ground and fades into the midsts of history as the greatest failed mind-control experiment of all time!More proof that there is no revenue stream other than through personal information & advertising. People should sell their FB stock, bcoz once this becomes clear to everyone, the stock will free fall.\\xa0Facebook\\'s and Google’s business models are extremely simple to understand. Gather information about user\\'s habits and sell the data to advertisers. That’s how they make money, period. They have no other revenue streams.I\\'m guessing he regrets getting caught saying it rather than actually changing his mind about his \"users.\"Sen. Amy Klobuchar (D-MN), who was recently installed as chair of the Senate Judiciary Subcommittee on Competition Policy, Antitrust, and Consumer Rights, on Wednesday said she plans to investigate tech-related topics including app stores.The Australian Competition and Consumer Commission this week targeted both Apple and Google in a probe into choice and competition issues related to internet search and preinstalled web browsers.Apple denied controversial conservative social media app Parler re-entry to the App Store during a recent review of the platform, according to a new report.Everyone loves AirPods Pro and the best way to accessorize and protect the charging case is with an extra enclosure. We\\'ve rounded up the best cases available through October 10, 2020, with options that will likely appeal to everyone.Alongside the Galaxy S21 reveal, Samsung also unveiled its latest wireless earbuds. We got our hands on a set of the Galaxy Buds Pro to compare it to Apple\\'s AirPods Pro.Apple\\'s new M1 System-on-Chip in the 13-inch MacBook Pro has the potential to be a performance powerhouse, but how does it fare against other Macs? From our testing, it could well be your next upgrade.The Playstation 5 and Xbox Series X are here. While there isn\\'t a clear choice of which to buy if you\\'re an Apple user, there are some pros and cons to each platform, if you own an iPhone, iPad, or Mac.The latest versions of the 13-inch MacBook Pro and MacBook Air are more similar than ever before, with small yet crucial differences between the two that will change which is the right one for you.Sen. Amy Klobuchar plans to hold antitrust subcommittee hearings on App StoreAustralian antitrust regulator examines Apple, Google web browser dominanceApple highlights US carrier trade-in offers on iPhone 12, iPhone 12 ProApple renews \\'Central Park\\' for a third season, shares season two first lookApple denied Parler re-entry to the App Store despite guideline revisionHidden M1 MacBook Pro deal drives 512GB model down to record low $1,349 at AmazonReview: LaCie BOSS SSD is a photographer\\'s best friendApple orders \\'Lady in the Lake,\\' starring Natalie Portman, Lupita Nyong\\'oSen. Amy Klobuchar (D-MN), who was recently installed as chair of the Senate Judiciary Subcommittee on Competition Policy, Antitrust, and Consumer Rights, on Wednesday said she plans to investigate tech-related topics including app stores.The Australian Competition and Consumer Commission this week targeted both Apple and Google in a probe into choice and competition issues related to internet search and preinstalled web browsers.Apple denied controversial conservative social media app Parler re-entry to the App Store during a recent review of the platform, according to a new report.We\\'ve been using MagSafe every day on our iPhone 12, so we\\'ve put together a list of the best accessories (so far) to make use of Apple\\'s new connectivity standard including chargers, wallets, mounts, and more.Logitech\\'s Circle View video doorbell is the first true HomeKit-first solution for your front door and it excels with a very Apple-esque user experience. In fact, Logitech\\'s solid execution only serves to highlight the shortcomings of HomeKit\\'s video support.When our video Mac Pro stopped working right, we had to fall back on reserve hardware. For a month, we\\'ve been using the 2020 MacBook Air with Apple\\'s M1 processor and here\\'s how it went.The new Belkin MagSafe 2-in-1 BoostCharge Pro is designed for iPhone 12 and AirPods. While it is an exceptional charger, the price still may give users pause.The DJI FPV drone is the company\\'s first all-in-one, ready-to-fly, first-person POV product, and we\\'ve been testing it out for the last week or so.LaCie, the creative pro arm of Seagate, has once again excelled in creating a near-essential tool for on-the-go creatives in the Boss SSD, which offers fast storage, mobile connectivity, and even a battery backup — at a cost.Hubble is a new combination case and USB-C hub designed for iPad Pro that protects your precious device while equipping it with expansive new connectivity.Originally announced shortly after the release of the iPhone 12, Moment\\'s MagSafe-enabled line of photography-oriented mounts is finally shipping, and they are worth the wait.The Sketchboard Pro combines the convenience of a drawing table with the security of an iPad case to give artists a comfortable place to draw.The Keychron K3 is a particularly well-designed slimline mechanical keyboard, but its chief competition is other keyboards from the same manufacturer.'"
      ]
     },
     "execution_count": 7,
     "metadata": {},
     "output_type": "execute_result"
    }
   ],
   "source": [
    "data['URL Text'][105]"
   ]
  },
  {
   "cell_type": "code",
   "execution_count": 8,
   "metadata": {},
   "outputs": [],
   "source": [
    "from gensim import utils\n",
    "import gensim.parsing.preprocessing as gsp\n",
    "\n",
    "filters = [\n",
    "           gsp.strip_tags, \n",
    "           gsp.strip_punctuation,\n",
    "           gsp.strip_multiple_whitespaces,\n",
    "           gsp.strip_numeric,\n",
    "           gsp.remove_stopwords, \n",
    "           gsp.strip_short, \n",
    "           gsp.stem_text\n",
    "          ]\n",
    "\n",
    "def clean_text(s):\n",
    "    s = s.lower()\n",
    "    s = utils.to_unicode(s)\n",
    "    for f in filters:\n",
    "        s = f(s)\n",
    "    return s\n",
    "\n",
    "data['post_text'] = data['post_text'].apply(lambda x:clean_text(x))\n",
    "data['URL Text'] = data['URL Text'].apply(lambda x:clean_text(x))\n",
    "\n",
    "flairs = data['post_flair'].value_counts().index"
   ]
  },
  {
   "cell_type": "code",
   "execution_count": 9,
   "metadata": {},
   "outputs": [
    {
     "data": {
      "text/plain": [
       "Index(['Space', 'Nanotech/Materials', 'Society', 'Transportation', 'Business',\n",
       "       'Robotics/Automation', 'Networking/Telecom', 'Energy', 'Biotechnology',\n",
       "       'Social', 'Hardware', 'Software', 'Politics', 'Privacy', 'Crypto',\n",
       "       'Security', 'SECURITY', 'Machine', 'CRYPTO', 'PRIVACY', 'crypto',\n",
       "       'politics', 'software', 'artificial', 'POLITICS', 'hardware',\n",
       "       'security', 'HARDWARE'],\n",
       "      dtype='object')"
      ]
     },
     "execution_count": 9,
     "metadata": {},
     "output_type": "execute_result"
    }
   ],
   "source": [
    "flairs"
   ]
  },
  {
   "cell_type": "code",
   "execution_count": 10,
   "metadata": {},
   "outputs": [],
   "source": [
    "def logisticreg(X_train,y_train,X_test,y_test):\n",
    "    \n",
    "  from sklearn.linear_model import LogisticRegression\n",
    "\n",
    "  logreg = Pipeline([('vect', CountVectorizer()),\n",
    "                  ('tfidf', TfidfTransformer()),\n",
    "                  ('clf', LogisticRegression(n_jobs=1, C=100, penalty='l2')),\n",
    "                 ])\n",
    "  logreg.fit(X_train, y_train)\n",
    "\n",
    "  y_pred = logreg.predict(X_test)\n",
    "\n",
    "  print(len(y_pred))\n",
    "\n",
    "  print('accuracy %s' % accuracy_score(y_pred, y_test))\n",
    "    \n",
    "\n",
    "  return logreg\n",
    "#  print(classification_report(y_test, y_pred,target_names=flairs))"
   ]
  },
  {
   "cell_type": "code",
   "execution_count": 11,
   "metadata": {},
   "outputs": [],
   "source": [
    "def nb_classifier(X_train,y_train,X_test,y_test):\n",
    "  nb = Pipeline([('vect', CountVectorizer()),\n",
    "                 ('tfidf', TfidfTransformer()),\n",
    "                 ('clf', MultinomialNB()),\n",
    "                ])\n",
    "  nb.fit(X_train, y_train)\n",
    "\n",
    "  y_pred = nb.predict(X_test)\n",
    "\n",
    "  print('accuracy %s' % accuracy_score(y_pred, y_test))\n",
    "#  print(classification_report(y_test, y_pred,target_names=flairs))"
   ]
  },
  {
   "cell_type": "code",
   "execution_count": 12,
   "metadata": {},
   "outputs": [],
   "source": [
    "## mlp\n",
    "def mlpclassifier(X_train,y_train,X_test,y_test):  \n",
    "  mlp = Pipeline([('vect', CountVectorizer()),\n",
    "                  ('tfidf', TfidfTransformer()),\n",
    "                  ('clf', MLPClassifier(hidden_layer_sizes=(30,30,30))),\n",
    "                 ])\n",
    "  mlp.fit(X_train, y_train)\n",
    "\n",
    "  y_pred = mlp.predict(X_test)\n",
    "\n",
    "  print('accuracy %s' % accuracy_score(y_pred, y_test))\n",
    "#  print(classification_report(y_test, y_pred,target_names=flairs))"
   ]
  },
  {
   "cell_type": "code",
   "execution_count": 13,
   "metadata": {},
   "outputs": [],
   "source": [
    "def xgbclassifier(X_train,y_train,X_test,y_test):  \n",
    "    xgb_clf = Pipeline([('vect', CountVectorizer()),\n",
    "                  ('tfidf', TfidfTransformer()),\n",
    "                  ('clf', XGBClassifier(random_state=42, seed=2, colsample_bytree=0.6,eval_metric='merror',subsample=0.7,objective='multi:softmax')),\n",
    "                 ])\n",
    "    xgb_clf.fit(X_train, y_train)\n",
    "\n",
    "    y_pred = xgb_clf.predict(X_test)\n",
    "\n",
    "    print('accuracy %s' % accuracy_score(y_pred, y_test))\n",
    "#    print(classification_report(y_test, y_pred,target_names=flairs))"
   ]
  },
  {
   "cell_type": "code",
   "execution_count": 14,
   "metadata": {},
   "outputs": [
    {
     "name": "stdout",
     "output_type": "stream",
     "text": [
      "______________________________________________\n",
      "\n",
      "Flair Detection using ALL THREE as feature\n",
      "164\n",
      "accuracy 0.5792682926829268\n"
     ]
    }
   ],
   "source": [
    "def train_test(X,y):\n",
    " \n",
    "    X_train, X_test, y_train, y_test = train_test_split(X, y, test_size=0.1, random_state = 42)\n",
    "   \n",
    "#    print(\"Results of Logistic Regression\")\n",
    "    return logisticreg(X_train,y_train,X_test,y_test)\n",
    "#    print(\"Results of XGB\")\n",
    "#    xgbclassifier(X_train,y_train,X_test,y_test)\n",
    "#    print(\"Results of Naive Bayes\")\n",
    "#    nb_classifier(X_train,y_train,X_test,y_test)\n",
    "#    print(\"Results of MLP\")\n",
    "#    mlpclassifier(X_train,y_train,X_test,y_test)\n",
    "    \n",
    "cat = data['post_flair']\n",
    "V = data['URL Text']\n",
    "W = data['post_text']\n",
    "U = data['post_additional_url']\n",
    "\n",
    "#print(\"______________________________________________\\n\")\n",
    "#print(\"Flair Detection using URL link text as feature\")\n",
    "#train_test(U,cat)\n",
    "#print(\"Flair Detection using URL page text as feature\")\n",
    "#train_test(V,cat)\n",
    "#print(\"______________________________________________\\n\")\n",
    "#print(\"Flair Detection using title text as feature\")\n",
    "#train_test(W,cat)\n",
    "\n",
    "print(\"______________________________________________\\n\")\n",
    "print(\"Flair Detection using ALL THREE as feature\")\n",
    "model = train_test(U+W+V,cat)\n",
    "   "
   ]
  },
  {
   "cell_type": "code",
   "execution_count": 15,
   "metadata": {},
   "outputs": [],
   "source": [
    "import joblib"
   ]
  },
  {
   "cell_type": "code",
   "execution_count": 29,
   "metadata": {},
   "outputs": [
    {
     "data": {
      "text/plain": [
       "0       assist professor chemistri washington univers ...\n",
       "1                            🌊🍭🌊🍭🌊🍭🌊 rosalía social media\n",
       "2       year fight depress final got courag post socia...\n",
       "3       controversi facial recognit startup clearview ...\n",
       "4       binanc smart chain centralis decentralis let d...\n",
       "                              ...                        \n",
       "1632    ÿøÿà jfifdoesn’t wanna friend block social med...\n",
       "1633    seen interest robot design year allow adventur...\n",
       "1634                                                 hack\n",
       "1635    walmart unveil new initi aim store fulfil bigg...\n",
       "1636    bank digit servic protect wealth cybersecur pr...\n",
       "Length: 1637, dtype: object"
      ]
     },
     "execution_count": 29,
     "metadata": {},
     "output_type": "execute_result"
    }
   ],
   "source": [
    "V+W"
   ]
  },
  {
   "cell_type": "code",
   "execution_count": 26,
   "metadata": {},
   "outputs": [
    {
     "data": {
      "text/plain": [
       "['finalised_model.bin']"
      ]
     },
     "execution_count": 26,
     "metadata": {},
     "output_type": "execute_result"
    }
   ],
   "source": [
    "filename = 'finalised_model.bin'\n",
    "joblib.dump(model,filename)"
   ]
  }
 ],
 "metadata": {
  "kernelspec": {
   "display_name": "Python 3",
   "language": "python",
   "name": "python3"
  },
  "language_info": {
   "codemirror_mode": {
    "name": "ipython",
    "version": 3
   },
   "file_extension": ".py",
   "mimetype": "text/x-python",
   "name": "python",
   "nbconvert_exporter": "python",
   "pygments_lexer": "ipython3",
   "version": "3.6.10"
  }
 },
 "nbformat": 4,
 "nbformat_minor": 4
}
