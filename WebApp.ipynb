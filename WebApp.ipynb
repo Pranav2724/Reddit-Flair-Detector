{
 "cells": [
  {
   "cell_type": "code",
   "execution_count": 2,
   "metadata": {},
   "outputs": [],
   "source": [
    "import logging\n",
    "import gensim\n",
    "import requests\n",
    "import os\n",
    "import flask\n",
    "from flask import Flask, flash, request,jsonify, json\n",
    "import json\n",
    "import joblib\n",
    "import praw\n",
    "from gensim import utils\n",
    "from bs4 import BeautifulSoup\n",
    "import gensim.parsing.preprocessing as gsp"
   ]
  },
  {
   "cell_type": "code",
   "execution_count": 3,
   "metadata": {},
   "outputs": [],
   "source": [
    "filters = [gsp.strip_tags,\n",
    "gsp.strip_punctuation,\n",
    "gsp.strip_multiple_whitespaces,\n",
    "gsp.strip_numeric,\n",
    "gsp.remove_stopwords,\n",
    "gsp.strip_short,\n",
    "gsp.stem_text\n",
    "]\n",
    "\n",
    "def clean(s):\n",
    "    s = s.lower()\n",
    "    s = utils.to_unicode(s)\n",
    "    for f in filters:\n",
    "        s = f(s)\n",
    "    return s\n",
    "\n",
    "model = joblib.load(open('finalised_model.bin', 'rb'))"
   ]
  },
  {
   "cell_type": "code",
   "execution_count": 4,
   "metadata": {},
   "outputs": [],
   "source": [
    "\n",
    "reddit = praw.Reddit(client_id = \"5M0hvvospTusew\",\n",
    "                        client_secret = \"-T_-9j9N_cyr1s5otX1m2_j-o69qHQ\",\n",
    "                        user_agent = \"Reddit Flair Detection\",\n",
    "                        username = \"prankh2403\",\n",
    "                        password = \"fiatpunto2010\")"
   ]
  },
  {
   "cell_type": "code",
   "execution_count": 5,
   "metadata": {},
   "outputs": [],
   "source": [
    "submission = reddit.submission(url = 'https://www.reddit.com/r/technology/comments/m4qdvt/google_accused_of_tracking_users_in_incognito/')"
   ]
  },
  {
   "cell_type": "code",
   "execution_count": 6,
   "metadata": {},
   "outputs": [
    {
     "data": {
      "text/plain": [
       "'Privacy'"
      ]
     },
     "execution_count": 6,
     "metadata": {},
     "output_type": "execute_result"
    }
   ],
   "source": [
    "submission.link_flair_text"
   ]
  },
  {
   "cell_type": "code",
   "execution_count": 7,
   "metadata": {},
   "outputs": [],
   "source": [
    "\n",
    "def prediction(url):\n",
    "    submission = reddit.submission(url = url)\n",
    "    data = {}\n",
    "    data[\"title\"] = str(submission.title)\n",
    "    data[\"url\"] = str(submission.url)\n",
    "    \n",
    "    soup = BeautifulSoup(requests.get(data[\"url\"]).content)\n",
    "    string = \"\"           \n",
    "    para_list = soup.find_all('p')\n",
    "    for k in para_list:\n",
    "        string += k.getText()\n",
    "        \n",
    "    data[\"url_page_text\"] = string\n",
    "\n",
    "    data['title'] = clean(str(data['title']))\n",
    "    data['url_page_text'] = clean(str(data['url_page_text']))\n",
    "    \n",
    "    combined_features = data[\"title\"] + data[\"url\"] + data[\"url_page_text\"]\n",
    "\n",
    "    return model.predict([combined_features])\n"
   ]
  },
  {
   "cell_type": "code",
   "execution_count": 12,
   "metadata": {},
   "outputs": [
    {
     "name": "stdout",
     "output_type": "stream",
     "text": [
      " * Serving Flask app \"__main__\" (lazy loading)\n",
      " * Environment: production\n",
      "   WARNING: This is a development server. Do not use it in a production deployment.\n",
      "   Use a production WSGI server instead.\n",
      " * Debug mode: off\n"
     ]
    },
    {
     "name": "stderr",
     "output_type": "stream",
     "text": [
      " * Running on http://127.0.0.1:5000/ (Press CTRL+C to quit)\n",
      "127.0.0.1 - - [14/Mar/2021 19:07:20] \"\u001b[37mGET / HTTP/1.1\u001b[0m\" 200 -\n",
      "127.0.0.1 - - [14/Mar/2021 19:07:20] \"\u001b[33mGET /static/style.css HTTP/1.1\u001b[0m\" 404 -\n",
      "127.0.0.1 - - [14/Mar/2021 19:08:10] \"\u001b[37mPOST / HTTP/1.1\u001b[0m\" 200 -\n",
      "127.0.0.1 - - [14/Mar/2021 19:08:10] \"\u001b[33mGET /static/style.css HTTP/1.1\u001b[0m\" 404 -\n",
      "127.0.0.1 - - [14/Mar/2021 19:08:43] \"\u001b[37mPOST / HTTP/1.1\u001b[0m\" 200 -\n",
      "127.0.0.1 - - [14/Mar/2021 19:08:43] \"\u001b[33mGET /static/style.css HTTP/1.1\u001b[0m\" 404 -\n",
      "127.0.0.1 - - [14/Mar/2021 19:09:24] \"\u001b[37mPOST / HTTP/1.1\u001b[0m\" 200 -\n",
      "127.0.0.1 - - [14/Mar/2021 19:09:24] \"\u001b[33mGET /static/style.css HTTP/1.1\u001b[0m\" 404 -\n",
      "127.0.0.1 - - [14/Mar/2021 19:09:47] \"\u001b[37mPOST / HTTP/1.1\u001b[0m\" 200 -\n",
      "127.0.0.1 - - [14/Mar/2021 19:09:47] \"\u001b[33mGET /static/style.css HTTP/1.1\u001b[0m\" 404 -\n",
      "127.0.0.1 - - [14/Mar/2021 19:11:07] \"\u001b[37mPOST / HTTP/1.1\u001b[0m\" 200 -\n",
      "127.0.0.1 - - [14/Mar/2021 19:11:07] \"\u001b[33mGET /static/style.css HTTP/1.1\u001b[0m\" 404 -\n"
     ]
    }
   ],
   "source": [
    "app = Flask(__name__,template_folder='templates')\n",
    "@app.route('/', methods=['GET', 'POST'])\n",
    "def main():\n",
    "    if flask.request.method == 'GET':\n",
    "        return(flask.render_template('main.html'))\n",
    "\n",
    "    if flask.request.method == 'POST':\n",
    "        text = flask.request.form['url']\n",
    "\n",
    "        flair = str(prediction(str(text)))\n",
    "        \n",
    "        return flask.render_template('main.html', original_input={'url':str(text)}, result=flair[2:-2])\n",
    "    \n",
    "if __name__ == '__main__':\n",
    "    app.run()"
   ]
  },
  {
   "cell_type": "code",
   "execution_count": 14,
   "metadata": {},
   "outputs": [
    {
     "ename": "SyntaxError",
     "evalue": "invalid syntax (<ipython-input-14-6f5b512ddcb2>, line 1)",
     "output_type": "error",
     "traceback": [
      "\u001b[1;36m  File \u001b[1;32m\"<ipython-input-14-6f5b512ddcb2>\"\u001b[1;36m, line \u001b[1;32m1\u001b[0m\n\u001b[1;33m    heroku login\u001b[0m\n\u001b[1;37m               ^\u001b[0m\n\u001b[1;31mSyntaxError\u001b[0m\u001b[1;31m:\u001b[0m invalid syntax\n"
     ]
    }
   ],
   "source": []
  }
 ],
 "metadata": {
  "kernelspec": {
   "display_name": "Python 3",
   "language": "python",
   "name": "python3"
  },
  "language_info": {
   "codemirror_mode": {
    "name": "ipython",
    "version": 3
   },
   "file_extension": ".py",
   "mimetype": "text/x-python",
   "name": "python",
   "nbconvert_exporter": "python",
   "pygments_lexer": "ipython3",
   "version": "3.6.10"
  }
 },
 "nbformat": 4,
 "nbformat_minor": 4
}
